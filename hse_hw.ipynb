{
 "cells": [
  {
   "cell_type": "code",
   "execution_count": 190,
   "metadata": {
    "collapsed": false,
    "pycharm": {
     "name": "#%%\n"
    }
   },
   "outputs": [],
   "source": [
    "import numpy as np\n",
    "import scipy as sp\n",
    "import pandas as pd\n",
    "import streamlit\n",
    "import requests\n",
    "import seaborn as sns\n",
    "import matplotlib.pyplot as plt\n",
    "import time\n",
    "from selenium import webdriver\n",
    "from webdriver_manager.chrome import ChromeDriverManager\n",
    "from bs4 import BeautifulSoup\n",
    "from rich.console import Console\n",
    "import json\n",
    "import os\n",
    "import geopandas as gpd\n",
    "from selenium import webdriver\n",
    "from selenium.webdriver.common.by import By\n",
    "from selenium.webdriver.support.ui import WebDriverWait\n",
    "from selenium.webdriver.support import expected_conditions as EC\n"
   ]
  },
  {
   "cell_type": "code",
   "execution_count": 191,
   "metadata": {
    "collapsed": false,
    "pycharm": {
     "name": "#%%\n"
    }
   },
   "outputs": [],
   "source": [
    "uni_list_url = \"https://www.usnews.com/best-graduate-schools/top-science-schools/computer-science-rankings\"\n",
    "gimmeproxy_url = \"https://gimmeproxy.com/api/getProxy\"\n",
    "geo_api_endpoint = \"http://api.positionstack.com/v1/forward\"\n",
    "console = Console()\n",
    "scroll_pause_time = 5 # время, которое будет ждать селениум, прежде, чем прокрутить страницу вниз, в секундах"
   ]
  },
  {
   "cell_type": "markdown",
   "metadata": {
    "collapsed": false,
    "pycharm": {
     "name": "#%% md\n"
    }
   },
   "source": [
    "[это помогло мне динамически менять ip адрес, поскольку веб-сервисы не любят, когда их данные пытаются скрейпить](https://stackoverflow.com/questions/28852057/change-ip-address-dynamically)\n",
    "И да, это api"
   ]
  },
  {
   "cell_type": "code",
   "execution_count": 192,
   "metadata": {
    "collapsed": false,
    "pycharm": {
     "name": "#%%\n"
    }
   },
   "outputs": [],
   "source": [
    "def get_ip():\n",
    "    raw_proxy = json.loads(requests.get(gimmeproxy_url).text)\n",
    "    target = raw_proxy[\"ip\"]\n",
    "    console.print(f\"found this free proxy\\n{raw_proxy}\")\n",
    "    console.print(\"got this brand new ip-adress\\n{0}\".format(target), style=\"bold green\")\n",
    "    return target"
   ]
  },
  {
   "cell_type": "code",
   "execution_count": 193,
   "metadata": {
    "collapsed": false,
    "pycharm": {
     "name": "#%%\n"
    }
   },
   "outputs": [
    {
     "name": "stdout",
     "output_type": "stream",
     "text": [
      "\n"
     ]
    },
    {
     "name": "stderr",
     "output_type": "stream",
     "text": [
      "[WDM] - ====== WebDriver manager ======\n",
      "2022-06-05 18:21:24.047 INFO    WDM: ====== WebDriver manager ======\n",
      "[WDM] - Current google-chrome version is 102.0.5005\n",
      "2022-06-05 18:21:24.136 INFO    WDM: Current google-chrome version is 102.0.5005\n",
      "[WDM] - Get LATEST chromedriver version for 102.0.5005 google-chrome\n",
      "2022-06-05 18:21:24.138 INFO    WDM: Get LATEST chromedriver version for 102.0.5005 google-chrome\n",
      "[WDM] - Driver [/Users/Rober/.wdm/drivers/chromedriver/mac64_m1/102.0.5005.61/chromedriver] found in cache\n",
      "2022-06-05 18:21:24.238 INFO    WDM: Driver [/Users/Rober/.wdm/drivers/chromedriver/mac64_m1/102.0.5005.61/chromedriver] found in cache\n",
      "/var/folders/2m/2cdbvl6s55s3dq_58sct57n00000gn/T/ipykernel_73568/1773172436.py:1: DeprecationWarning: executable_path has been deprecated, please pass in a Service object\n",
      "  wd_instance = webdriver.Chrome(ChromeDriverManager().install())\n"
     ]
    },
    {
     "data": {
      "text/html": [
       "<pre style=\"white-space:pre;overflow-x:auto;line-height:normal;font-family:Menlo,'DejaVu Sans Mono',consolas,'Courier New',monospace\">found this free proxy\n",
       "<span style=\"font-weight: bold\">{</span><span style=\"color: #008000; text-decoration-color: #008000\">'supportsHttps'</span>: <span style=\"color: #00ff00; text-decoration-color: #00ff00; font-style: italic\">True</span>, <span style=\"color: #008000; text-decoration-color: #008000\">'protocol'</span>: <span style=\"color: #008000; text-decoration-color: #008000\">'socks5'</span>, <span style=\"color: #008000; text-decoration-color: #008000\">'ip'</span>: <span style=\"color: #008000; text-decoration-color: #008000\">'62.113.115.94'</span>, <span style=\"color: #008000; text-decoration-color: #008000\">'port'</span>: <span style=\"color: #008000; text-decoration-color: #008000\">'16072'</span>, <span style=\"color: #008000; text-decoration-color: #008000\">'get'</span>: \n",
       "<span style=\"color: #00ff00; text-decoration-color: #00ff00; font-style: italic\">True</span>, <span style=\"color: #008000; text-decoration-color: #008000\">'post'</span>: <span style=\"color: #00ff00; text-decoration-color: #00ff00; font-style: italic\">True</span>, <span style=\"color: #008000; text-decoration-color: #008000\">'cookies'</span>: <span style=\"color: #00ff00; text-decoration-color: #00ff00; font-style: italic\">True</span>, <span style=\"color: #008000; text-decoration-color: #008000\">'referer'</span>: <span style=\"color: #00ff00; text-decoration-color: #00ff00; font-style: italic\">True</span>, <span style=\"color: #008000; text-decoration-color: #008000\">'user-agent'</span>: <span style=\"color: #00ff00; text-decoration-color: #00ff00; font-style: italic\">True</span>, <span style=\"color: #008000; text-decoration-color: #008000\">'anonymityLevel'</span>: \n",
       "<span style=\"color: #008080; text-decoration-color: #008080; font-weight: bold\">1</span>, <span style=\"color: #008000; text-decoration-color: #008000\">'websites'</span>: <span style=\"font-weight: bold\">{</span><span style=\"color: #008000; text-decoration-color: #008000\">'example'</span>: <span style=\"color: #00ff00; text-decoration-color: #00ff00; font-style: italic\">True</span>, <span style=\"color: #008000; text-decoration-color: #008000\">'google'</span>: <span style=\"color: #ff0000; text-decoration-color: #ff0000; font-style: italic\">False</span>, <span style=\"color: #008000; text-decoration-color: #008000\">'amazon'</span>: <span style=\"color: #ff0000; text-decoration-color: #ff0000; font-style: italic\">False</span>, <span style=\"color: #008000; text-decoration-color: #008000\">'yelp'</span>: <span style=\"color: #ff0000; text-decoration-color: #ff0000; font-style: italic\">False</span>, \n",
       "<span style=\"color: #008000; text-decoration-color: #008000\">'google_maps'</span>: <span style=\"color: #ff0000; text-decoration-color: #ff0000; font-style: italic\">False</span><span style=\"font-weight: bold\">}</span>, <span style=\"color: #008000; text-decoration-color: #008000\">'country'</span>: <span style=\"color: #008000; text-decoration-color: #008000\">'RU'</span>, <span style=\"color: #008000; text-decoration-color: #008000\">'unixTimestampMs'</span>: <span style=\"color: #008080; text-decoration-color: #008080; font-weight: bold\">1654441860580</span>, <span style=\"color: #008000; text-decoration-color: #008000\">'tsChecked'</span>: \n",
       "<span style=\"color: #008080; text-decoration-color: #008080; font-weight: bold\">1654441860</span>, <span style=\"color: #008000; text-decoration-color: #008000\">'unixTimestamp'</span>: <span style=\"color: #008080; text-decoration-color: #008080; font-weight: bold\">1654441860</span>, <span style=\"color: #008000; text-decoration-color: #008000\">'curl'</span>: <span style=\"color: #008000; text-decoration-color: #008000\">'socks5://62.113.115.94:16072'</span>, <span style=\"color: #008000; text-decoration-color: #008000\">'ipPort'</span>: \n",
       "<span style=\"color: #008000; text-decoration-color: #008000\">'62.113.115.94:16072'</span>, <span style=\"color: #008000; text-decoration-color: #008000\">'type'</span>: <span style=\"color: #008000; text-decoration-color: #008000\">'socks5'</span>, <span style=\"color: #008000; text-decoration-color: #008000\">'speed'</span>: <span style=\"color: #008080; text-decoration-color: #008080; font-weight: bold\">10</span>, <span style=\"color: #008000; text-decoration-color: #008000\">'otherProtocols'</span>: <span style=\"font-weight: bold\">{}</span>, \n",
       "<span style=\"color: #008000; text-decoration-color: #008000\">'verifiedSecondsAgo'</span>: <span style=\"color: #008080; text-decoration-color: #008080; font-weight: bold\">626</span><span style=\"font-weight: bold\">}</span>\n",
       "</pre>\n"
      ],
      "text/plain": [
       "found this free proxy\n",
       "\u001b[1m{\u001b[0m\u001b[32m'supportsHttps'\u001b[0m: \u001b[3;92mTrue\u001b[0m, \u001b[32m'protocol'\u001b[0m: \u001b[32m'socks5'\u001b[0m, \u001b[32m'ip'\u001b[0m: \u001b[32m'62.113.115.94'\u001b[0m, \u001b[32m'port'\u001b[0m: \u001b[32m'16072'\u001b[0m, \u001b[32m'get'\u001b[0m: \n",
       "\u001b[3;92mTrue\u001b[0m, \u001b[32m'post'\u001b[0m: \u001b[3;92mTrue\u001b[0m, \u001b[32m'cookies'\u001b[0m: \u001b[3;92mTrue\u001b[0m, \u001b[32m'referer'\u001b[0m: \u001b[3;92mTrue\u001b[0m, \u001b[32m'user-agent'\u001b[0m: \u001b[3;92mTrue\u001b[0m, \u001b[32m'anonymityLevel'\u001b[0m: \n",
       "\u001b[1;36m1\u001b[0m, \u001b[32m'websites'\u001b[0m: \u001b[1m{\u001b[0m\u001b[32m'example'\u001b[0m: \u001b[3;92mTrue\u001b[0m, \u001b[32m'google'\u001b[0m: \u001b[3;91mFalse\u001b[0m, \u001b[32m'amazon'\u001b[0m: \u001b[3;91mFalse\u001b[0m, \u001b[32m'yelp'\u001b[0m: \u001b[3;91mFalse\u001b[0m, \n",
       "\u001b[32m'google_maps'\u001b[0m: \u001b[3;91mFalse\u001b[0m\u001b[1m}\u001b[0m, \u001b[32m'country'\u001b[0m: \u001b[32m'RU'\u001b[0m, \u001b[32m'unixTimestampMs'\u001b[0m: \u001b[1;36m1654441860580\u001b[0m, \u001b[32m'tsChecked'\u001b[0m: \n",
       "\u001b[1;36m1654441860\u001b[0m, \u001b[32m'unixTimestamp'\u001b[0m: \u001b[1;36m1654441860\u001b[0m, \u001b[32m'curl'\u001b[0m: \u001b[32m'socks5://62.113.115.94:16072'\u001b[0m, \u001b[32m'ipPort'\u001b[0m: \n",
       "\u001b[32m'62.113.115.94:16072'\u001b[0m, \u001b[32m'type'\u001b[0m: \u001b[32m'socks5'\u001b[0m, \u001b[32m'speed'\u001b[0m: \u001b[1;36m10\u001b[0m, \u001b[32m'otherProtocols'\u001b[0m: \u001b[1m{\u001b[0m\u001b[1m}\u001b[0m, \n",
       "\u001b[32m'verifiedSecondsAgo'\u001b[0m: \u001b[1;36m626\u001b[0m\u001b[1m}\u001b[0m\n"
      ]
     },
     "metadata": {},
     "output_type": "display_data"
    },
    {
     "data": {
      "text/html": [
       "<pre style=\"white-space:pre;overflow-x:auto;line-height:normal;font-family:Menlo,'DejaVu Sans Mono',consolas,'Courier New',monospace\"><span style=\"color: #008000; text-decoration-color: #008000; font-weight: bold\">got this brand new ip-adress</span>\n",
       "<span style=\"color: #00ff00; text-decoration-color: #00ff00; font-weight: bold\">62.113.115.94</span>\n",
       "</pre>\n"
      ],
      "text/plain": [
       "\u001b[1;32mgot this brand new ip-adress\u001b[0m\n",
       "\u001b[1;92m62.113.115.94\u001b[0m\n"
      ]
     },
     "metadata": {},
     "output_type": "display_data"
    }
   ],
   "source": [
    "wd_instance = webdriver.Chrome(ChromeDriverManager().install())\n",
    "options = webdriver.ChromeOptions()\n",
    "options.add_argument('--proxy-server={}'.format(set(get_ip())))"
   ]
  },
  {
   "cell_type": "code",
   "execution_count": 194,
   "metadata": {
    "collapsed": false,
    "pycharm": {
     "name": "#%%\n"
    }
   },
   "outputs": [],
   "source": [
    "def fetch_data(url: str):\n",
    "    wd_instance.get(url)\n",
    "    time.sleep(10)\n",
    "    last_height = wd_instance.execute_script(\"return document.body.scrollHeight\")\n",
    "    time.sleep(1)\n",
    "    y = 1000\n",
    "    for timer in range(0,50):\n",
    "        wd_instance.execute_script(\"window.scrollTo(0, \"+str(y)+\")\")\n",
    "        y += 1000  \n",
    "        time.sleep(1)\n",
    "        \n",
    "\n",
    "    # console.print(wd_instance.page_source)\n",
    "    return BeautifulSoup(wd_instance.page_source).find(\"table\", class_=\"TableStacked__Container-sc-82ags4-0 bQkqOS\" )\n",
    "    # console.print(table, style=\"underline yellow\")\n",
    "    \n",
    "def uni_serialize():\n",
    "    raw_data = fetch_data(uni_list_url)\n",
    "    target = []\n",
    "    list_univs = []\n",
    "    for uni in raw_data.find_all('div', class_=\"Box-w0dun1-0 cuHzbF\")[:30]:\n",
    "        list_univs.append([uni[\"name\"], uni.p.text.split(', ')[0], uni.p.text.split(', ')[1]])\n",
    "        # console.log(uni)\n",
    "    # return [table.findAll(\"div\", class_=\"Box-w0dun1-0 cuHzbF\")]\n",
    "    return pd.DataFrame(list_univs, columns = ['University', 'Location', 'State'])\n",
    "\n",
    "def get_geolocation(uni_name):\n",
    "    GEO_API_KEY = \"7e5af99fd356a3a854e866c2f16064eb\"\n",
    "    # console.log(\"[geo]: request\\n\")\n",
    "    # console.log(geo_api_endpoint + f\"?access_key={GEO_API_KEY}&query={uni_name}\")\n",
    "    # console.log(\"[geo]: response\\n\")\n",
    "    # console.log(json.loads(requests.get(url=geo_api_endpoint + f\"?access_key={GEO_API_KEY}&query={uni_name} USA\").text))\n",
    "    target = list(filter(lambda x: x[\"country\"] == \"United States\", json.loads(requests.get(url=geo_api_endpoint + f\"?access_key={GEO_API_KEY}&query={uni_name}\").text)[\"data\"]))[0]\n",
    "    return {\"latitude\": target[\"latitude\"], \"longitude\": target[\"longitude\"]}\n",
    "    \n",
    "\n",
    "def add_geo(df):\n",
    "    geo_lat = [get_geolocation(_)[\"latitude\"] for _ in df[\"University\"]]\n",
    "    geo_lon = [get_geolocation(_)[\"longitude\"] for _ in df[\"University\"]]\n",
    "    \n",
    "    df.insert(3, \"Latitude\", geo_lat, True)\n",
    "    df.insert(4, \"Longitude\", geo_lon, True)\n",
    "    return df\n",
    "    "
   ]
  },
  {
   "cell_type": "code",
   "execution_count": 195,
   "metadata": {
    "collapsed": false,
    "pycharm": {
     "name": "#%%\n"
    }
   },
   "outputs": [],
   "source": [
    "uni_data = uni_serialize()"
   ]
  },
  {
   "cell_type": "markdown",
   "metadata": {},
   "source": [
    "получили базовую информацию об университетах с сайта. Добавим к этим данным их географическое положение через api [api.positionstack.com/v1](https://positionstack.com). Построим карту Америки и отметим на ней университеты, используя библиотеку geopandas. Я нашел в открытом доступе файлы с необходимыми для отображения карты Америки формами. [Источник](https://github.com/joncutrer/geopandas-tutorial/tree/master/data)"
   ]
  },
  {
   "cell_type": "code",
   "execution_count": 196,
   "metadata": {},
   "outputs": [],
   "source": [
    "uni_data = add_geo(uni_data)"
   ]
  },
  {
   "cell_type": "code",
   "execution_count": 197,
   "metadata": {},
   "outputs": [
    {
     "data": {
      "text/html": [
       "<div>\n",
       "<style scoped>\n",
       "    .dataframe tbody tr th:only-of-type {\n",
       "        vertical-align: middle;\n",
       "    }\n",
       "\n",
       "    .dataframe tbody tr th {\n",
       "        vertical-align: top;\n",
       "    }\n",
       "\n",
       "    .dataframe thead th {\n",
       "        text-align: right;\n",
       "    }\n",
       "</style>\n",
       "<table border=\"1\" class=\"dataframe\">\n",
       "  <thead>\n",
       "    <tr style=\"text-align: right;\">\n",
       "      <th></th>\n",
       "      <th>STATEFP</th>\n",
       "      <th>STATENS</th>\n",
       "      <th>AFFGEOID</th>\n",
       "      <th>GEOID</th>\n",
       "      <th>STUSPS</th>\n",
       "      <th>NAME</th>\n",
       "      <th>LSAD</th>\n",
       "      <th>ALAND</th>\n",
       "      <th>AWATER</th>\n",
       "      <th>region</th>\n",
       "      <th>geometry</th>\n",
       "    </tr>\n",
       "  </thead>\n",
       "  <tbody>\n",
       "    <tr>\n",
       "      <th>0</th>\n",
       "      <td>06</td>\n",
       "      <td>01779778</td>\n",
       "      <td>0400000US06</td>\n",
       "      <td>06</td>\n",
       "      <td>CA</td>\n",
       "      <td>California</td>\n",
       "      <td>00</td>\n",
       "      <td>403483823181</td>\n",
       "      <td>20483271881</td>\n",
       "      <td>West</td>\n",
       "      <td>MULTIPOLYGON Z (((-118.59397 33.46720 0.00000,...</td>\n",
       "    </tr>\n",
       "    <tr>\n",
       "      <th>1</th>\n",
       "      <td>11</td>\n",
       "      <td>01702382</td>\n",
       "      <td>0400000US11</td>\n",
       "      <td>11</td>\n",
       "      <td>DC</td>\n",
       "      <td>District of Columbia</td>\n",
       "      <td>00</td>\n",
       "      <td>158350578</td>\n",
       "      <td>18633500</td>\n",
       "      <td>Northeast</td>\n",
       "      <td>POLYGON Z ((-77.11976 38.93434 0.00000, -77.04...</td>\n",
       "    </tr>\n",
       "    <tr>\n",
       "      <th>2</th>\n",
       "      <td>12</td>\n",
       "      <td>00294478</td>\n",
       "      <td>0400000US12</td>\n",
       "      <td>12</td>\n",
       "      <td>FL</td>\n",
       "      <td>Florida</td>\n",
       "      <td>00</td>\n",
       "      <td>138903200855</td>\n",
       "      <td>31407883551</td>\n",
       "      <td>Southeast</td>\n",
       "      <td>MULTIPOLYGON Z (((-81.81169 24.56874 0.00000, ...</td>\n",
       "    </tr>\n",
       "    <tr>\n",
       "      <th>3</th>\n",
       "      <td>13</td>\n",
       "      <td>01705317</td>\n",
       "      <td>0400000US13</td>\n",
       "      <td>13</td>\n",
       "      <td>GA</td>\n",
       "      <td>Georgia</td>\n",
       "      <td>00</td>\n",
       "      <td>148963503399</td>\n",
       "      <td>4947080103</td>\n",
       "      <td>Southeast</td>\n",
       "      <td>POLYGON Z ((-85.60516 34.98468 0.00000, -85.47...</td>\n",
       "    </tr>\n",
       "    <tr>\n",
       "      <th>4</th>\n",
       "      <td>16</td>\n",
       "      <td>01779783</td>\n",
       "      <td>0400000US16</td>\n",
       "      <td>16</td>\n",
       "      <td>ID</td>\n",
       "      <td>Idaho</td>\n",
       "      <td>00</td>\n",
       "      <td>214045425549</td>\n",
       "      <td>2397728105</td>\n",
       "      <td>West</td>\n",
       "      <td>POLYGON Z ((-117.24303 44.39097 0.00000, -117....</td>\n",
       "    </tr>\n",
       "  </tbody>\n",
       "</table>\n",
       "</div>"
      ],
      "text/plain": [
       "  STATEFP   STATENS     AFFGEOID GEOID STUSPS                  NAME LSAD  \\\n",
       "0      06  01779778  0400000US06    06     CA            California   00   \n",
       "1      11  01702382  0400000US11    11     DC  District of Columbia   00   \n",
       "2      12  00294478  0400000US12    12     FL               Florida   00   \n",
       "3      13  01705317  0400000US13    13     GA               Georgia   00   \n",
       "4      16  01779783  0400000US16    16     ID                 Idaho   00   \n",
       "\n",
       "          ALAND       AWATER     region  \\\n",
       "0  403483823181  20483271881       West   \n",
       "1     158350578     18633500  Northeast   \n",
       "2  138903200855  31407883551  Southeast   \n",
       "3  148963503399   4947080103  Southeast   \n",
       "4  214045425549   2397728105       West   \n",
       "\n",
       "                                            geometry  \n",
       "0  MULTIPOLYGON Z (((-118.59397 33.46720 0.00000,...  \n",
       "1  POLYGON Z ((-77.11976 38.93434 0.00000, -77.04...  \n",
       "2  MULTIPOLYGON Z (((-81.81169 24.56874 0.00000, ...  \n",
       "3  POLYGON Z ((-85.60516 34.98468 0.00000, -85.47...  \n",
       "4  POLYGON Z ((-117.24303 44.39097 0.00000, -117....  "
      ]
     },
     "execution_count": 197,
     "metadata": {},
     "output_type": "execute_result"
    }
   ],
   "source": [
    "states = gpd.read_file(\"usa-states-census-2014.shp\")\n",
    "states.head()"
   ]
  },
  {
   "cell_type": "markdown",
   "metadata": {},
   "source": [
    "Говорят, что вузы западного побережья круче Восточных. Проверим гиппотезу"
   ]
  },
  {
   "cell_type": "code",
   "execution_count": 198,
   "metadata": {},
   "outputs": [],
   "source": [
    "# штаты западного и восточного побережья\n",
    "west = [states[\"STUSPS\"][i] for i in range(len(states)) if 'est' in states[\"region\"][i]] \n",
    "east = [states[\"STUSPS\"][i] for i in range(len(states)) if 'ast' in states[\"region\"][i]] "
   ]
  },
  {
   "cell_type": "markdown",
   "metadata": {},
   "source": [
    "тут я вспомнил, что нужно много строчек.."
   ]
  },
  {
   "cell_type": "code",
   "execution_count": 199,
   "metadata": {},
   "outputs": [
    {
     "ename": "SyntaxError",
     "evalue": "invalid syntax (678013797.py, line 5)",
     "output_type": "error",
     "traceback": [
      "\u001b[0;36m  Input \u001b[0;32mIn [199]\u001b[0;36m\u001b[0m\n\u001b[0;31m    west_uni_avg +\u001b[0m\n\u001b[0m                   ^\u001b[0m\n\u001b[0;31mSyntaxError\u001b[0m\u001b[0;31m:\u001b[0m invalid syntax\n"
     ]
    }
   ],
   "source": [
    "west_uni_avg = 0\n",
    "west_uni_counter = 0\n",
    "for i in uni_data:\n",
    "    if i['state'] in west: \n",
    "        west_uni_avg + "
   ]
  },
  {
   "cell_type": "code",
   "execution_count": 200,
   "metadata": {},
   "outputs": [
    {
     "data": {
      "image/png": "[encoded data removed]",
      "text/plain": [
       "<Figure size 720x720 with 1 Axes>"
      ]
     },
     "metadata": {
      "needs_background": "light"
     },
     "output_type": "display_data"
    }
   ],
   "source": [
    "fig, ax = plt.subplots(figsize=(10,10))\n",
    "states.plot(color=\"gray\", ax=ax, )\n",
    "uni_data.plot(x=\"Longitude\", y=\"Latitude\", kind=\"scatter\", s=25, colormap=\"Blues\", ax=ax)\n",
    "plt.show()"
   ]
  },
  {
   "cell_type": "code",
   "execution_count": null,
   "metadata": {},
   "outputs": [],
   "source": []
  }
 ],
 "metadata": {
  "interpreter": {
   "hash": "f07bf01e8b74f3870404e9a4dcc7105e683724c1572afaf9a6f8524ef5c9c3d8"
  },
  "kernelspec": {
   "display_name": "Python 3.9.13 ('venv': venv)",
   "language": "python",
   "name": "python3"
  },
  "language_info": {
   "codemirror_mode": {
    "name": "ipython",
    "version": 3
   },
   "file_extension": ".py",
   "mimetype": "text/x-python",
   "name": "python",
   "nbconvert_exporter": "python",
   "pygments_lexer": "ipython3",
   "version": "3.9.13"
  }
 },
 "nbformat": 4,
 "nbformat_minor": 0
}
